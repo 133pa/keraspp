{
 "cells": [
  {
   "cell_type": "code",
   "execution_count": 1,
   "metadata": {
    "collapsed": true
   },
   "outputs": [],
   "source": [
    "# %load /home/sjkim/.jupyter/head.py\n",
    "# %%writefile /home/sjkim/.jupyter/head.py\n",
    "%matplotlib inline\n",
    "%load_ext autoreload \n",
    "%autoreload 2\n",
    "from importlib import reload\n",
    "import matplotlib.pyplot as plt\n",
    "import numpy as np"
   ]
  },
  {
   "cell_type": "code",
   "execution_count": 3,
   "metadata": {},
   "outputs": [
    {
     "name": "stderr",
     "output_type": "stream",
     "text": [
      "Using TensorFlow backend.\n"
     ]
    },
    {
     "name": "stdout",
     "output_type": "stream",
     "text": [
      "<function image_data_format at 0x7fb62f884840>\n"
     ]
    }
   ],
   "source": [
    "from keraspp import gan_cnn_mnist"
   ]
  },
  {
   "cell_type": "code",
   "execution_count": 4,
   "metadata": {},
   "outputs": [
    {
     "name": "stdout",
     "output_type": "stream",
     "text": [
      "<function image_data_format at 0x7fb62f884840>\n",
      "Output_fold is GAN_OUT\n",
      "Epoch is 0\n",
      "Number of batches 5\n",
      "Epoch is 1\n",
      "Number of batches 5\n",
      "Epoch is 2\n",
      "Number of batches 5\n",
      "Epoch is 3\n",
      "Number of batches 5\n",
      "Epoch is 4\n",
      "Number of batches 5\n",
      "Epoch is 5\n",
      "Number of batches 5\n",
      "Epoch is 6\n",
      "Number of batches 5\n",
      "Epoch is 7\n",
      "Number of batches 5\n",
      "Epoch is 8\n",
      "Number of batches 5\n",
      "Epoch is 9\n",
      "Number of batches 5\n"
     ]
    }
   ],
   "source": [
    "class ARGS:\n",
    "    pass\n",
    "\n",
    "args = ARGS()\n",
    "args.batch_size = 2\n",
    "args.epochs = 10\n",
    "args.output_fold = 'GAN_OUT'\n",
    "args.input_dim = 10\n",
    "\n",
    "gan_cnn_mnist.train(args)"
   ]
  },
  {
   "cell_type": "code",
   "execution_count": null,
   "metadata": {
    "collapsed": true
   },
   "outputs": [],
   "source": []
  }
 ],
 "metadata": {
  "kernelspec": {
   "display_name": "Python [conda root]",
   "language": "python",
   "name": "conda-root-py"
  },
  "language_info": {
   "codemirror_mode": {
    "name": "ipython",
    "version": 3
   },
   "file_extension": ".py",
   "mimetype": "text/x-python",
   "name": "python",
   "nbconvert_exporter": "python",
   "pygments_lexer": "ipython3",
   "version": "3.6.1"
  },
  "toc": {
   "nav_menu": {},
   "number_sections": true,
   "sideBar": true,
   "skip_h1_title": true,
   "toc_cell": false,
   "toc_position": {},
   "toc_section_display": "block",
   "toc_window_display": false
  }
 },
 "nbformat": 4,
 "nbformat_minor": 2
}
