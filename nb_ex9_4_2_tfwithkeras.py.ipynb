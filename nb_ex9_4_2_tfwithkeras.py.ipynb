{
 "cells": [
  {
   "cell_type": "markdown",
   "metadata": {},
   "source": [
    "# 예제 9-7 텐서플로와 케라쓰는 섞어 쓰는 CNN"
   ]
  },
  {
   "cell_type": "code",
   "execution_count": 1,
   "metadata": {
    "collapsed": true
   },
   "outputs": [],
   "source": [
    "# %load /home/sjkim/.jupyter/head.py\n",
    "# %%writefile /home/sjkim/.jupyter/head.py\n",
    "# %load /home/sjkim/.jupyter/head.py\n",
    "%matplotlib inline\n",
    "%load_ext autoreload \n",
    "%autoreload 2\n",
    "from importlib import reload\n",
    "\n",
    "import matplotlib.pyplot as plt\n",
    "import numpy as np\n",
    "\n",
    "import pandas as pd\n",
    "import os\n",
    "os.environ[\"CUDA_VISIBLE_DEVICES\"]=\"2\"\n",
    "\n",
    "# seaborn\n",
    "import seaborn as sns\n",
    "sns.set( style = 'white', font_scale = 1.7)\n",
    "#sns.set( font_scale = 1.7)\n",
    "sns.set_style('ticks')\n",
    "plt.rcParams['savefig.dpi'] = 200\n",
    "\n",
    "# font for matplotlib\n",
    "import matplotlib\n",
    "import matplotlib.font_manager as fm\n",
    "fm.get_fontconfig_fonts()\n",
    "font_location = '/usr/share/fonts/truetype/nanum/NanumGothicBold.ttf'\n",
    "font_name = fm.FontProperties(fname=font_location).get_name()\n",
    "matplotlib.rc('font', family=font_name)"
   ]
  },
  {
   "cell_type": "code",
   "execution_count": 7,
   "metadata": {},
   "outputs": [
    {
     "data": {
      "text/plain": [
       "<module 'ex9_4_2_tfwithkeras' from '/home/sjkim/Dropbox/Aspuru-Guzik/python_lab/py3/keraspp/ex9_4_2_tfwithkeras.py'>"
      ]
     },
     "execution_count": 7,
     "metadata": {},
     "output_type": "execute_result"
    }
   ],
   "source": [
    "import ex9_4_2_tfwithkeras as example"
   ]
  },
  {
   "cell_type": "code",
   "execution_count": 8,
   "metadata": {},
   "outputs": [
    {
     "name": "stdout",
     "output_type": "stream",
     "text": [
      "Epoch 0: loss = 0.227, acc = 0.931\n",
      "Epoch 1: loss = 0.169, acc = 0.950\n",
      "Epoch 2: loss = 0.144, acc = 0.957\n",
      "Epoch 3: loss = 0.128, acc = 0.961\n",
      "Epoch 4: loss = 0.126, acc = 0.963\n",
      "Epoch 5: loss = 0.117, acc = 0.965\n",
      "Epoch 6: loss = 0.112, acc = 0.967\n",
      "Epoch 7: loss = 0.109, acc = 0.969\n",
      "Epoch 8: loss = 0.106, acc = 0.970\n",
      "Epoch 9: loss = 0.103, acc = 0.972\n"
     ]
    }
   ],
   "source": [
    "example.main()"
   ]
  }
 ],
 "metadata": {
  "kernelspec": {
   "display_name": "Python 3",
   "language": "python",
   "name": "python3"
  },
  "language_info": {
   "codemirror_mode": {
    "name": "ipython",
    "version": 3
   },
   "file_extension": ".py",
   "mimetype": "text/x-python",
   "name": "python",
   "nbconvert_exporter": "python",
   "pygments_lexer": "ipython3",
   "version": "3.6.1"
  },
  "toc": {
   "nav_menu": {
    "height": "12px",
    "width": "252px"
   },
   "number_sections": true,
   "sideBar": true,
   "skip_h1_title": true,
   "toc_cell": false,
   "toc_position": {},
   "toc_section_display": "block",
   "toc_window_display": false
  }
 },
 "nbformat": 4,
 "nbformat_minor": 2
}
